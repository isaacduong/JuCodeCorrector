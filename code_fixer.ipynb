{
 "cells": [
  {
   "cell_type": "code",
   "execution_count": 1,
   "id": "1040da1a-3fc0-4f43-b620-8063c307ad2c",
   "metadata": {
    "tags": []
   },
   "outputs": [],
   "source": [
    "import re\n",
    "import openai\n",
    "import os\n",
    "import inspect\n",
    "import pyperclip\n",
    "import pyautogui\n",
    "from colored import fg, attr\n",
    "import logging\n",
    "import black\n",
    "\n",
    "from pygments import highlight\n",
    "from pygments.lexers import PythonLexer\n",
    "from pygments.formatters import TerminalFormatter\n",
    "\n",
    "openai.api_key = os.getenv(\"OPENAI_API_KEY\")"
   ]
  },
  {
   "cell_type": "code",
   "execution_count": 2,
   "id": "45a5efd0-4f9e-4e8e-b38b-e8df04d959be",
   "metadata": {},
   "outputs": [],
   "source": [
    "%load_ext jupyter_ai_magics"
   ]
  },
  {
   "cell_type": "code",
   "execution_count": 33,
   "id": "9efe2b92-b851-4c67-86cf-5f242da80c3a",
   "metadata": {
    "tags": []
   },
   "outputs": [],
   "source": [
    "def format_py_code(code):\n",
    "    \"\"\"Return a formatted version of Python code.\"\"\"\n",
    "    try:\n",
    "        formatted_code = black.format_str(code, mode=black.FileMode())\n",
    "    except Exception:\n",
    "        formatted_code = code\n",
    "    \n",
    "    return formatted_code"
   ]
  },
  {
   "cell_type": "code",
   "execution_count": 71,
   "id": "b502db22-6768-4edc-a422-7e0947c3e2c4",
   "metadata": {
    "tags": []
   },
   "outputs": [],
   "source": [
    "def format_python_code(code):\n",
    "    \"\"\" This function will format python code in the terminal. \n",
    "    Args:\n",
    "        code: a string, the python code to format\n",
    "    Returns:\n",
    "        formatted_code: a string, the formatted code\n",
    "    \"\"\"\n",
    "    # Split the code into lines\n",
    "    lines = code.split('\\n')\n",
    "    # Initialize the list of formatted lines\n",
    "    formatted_lines = []\n",
    "    # Loop through each line of code\n",
    "    for line in lines:\n",
    "        # Format the line\n",
    "        formatted_line = highlight(line, PythonLexer(), TerminalFormatter())\n",
    "        # Add the formatted line to the list\n",
    "        formatted_lines.append(formatted_line)\n",
    "    # Join the lines together\n",
    "    formatted_code = '\\n'.join(formatted_lines)\n",
    "    \n",
    "    return formatted_code\n"
   ]
  },
  {
   "cell_type": "code",
   "execution_count": 72,
   "id": "7a50db77-3e60-474b-bebc-e8c17f95ab75",
   "metadata": {
    "tags": []
   },
   "outputs": [],
   "source": [
    "\n",
    "def show_function_definition(function):\n",
    "    \"\"\"Return the source code for a function.\"\"\"\n",
    "    \n",
    "    try:\n",
    "        source_lines, _ = inspect.getsourcelines(function)\n",
    "    except TypeError:\n",
    "        return \"This function does not have a definition.\"\n",
    "    except OSError:\n",
    "        return \"This function does not have a definition.\"\n",
    "    \n",
    "    # Join the lines together into a single string.\n",
    "    function_definition = ''.join(source_lines)\n",
    "    \n",
    "    # Format the code using the format_python_code function.\n",
    "    formatted_definition = format_py_code(function_definition)\n",
    "    \n",
    "    return formatted_definition\n"
   ]
  },
  {
   "cell_type": "code",
   "execution_count": 73,
   "id": "a02ade39-6709-4060-b708-1b4ed024abf0",
   "metadata": {
    "tags": []
   },
   "outputs": [],
   "source": [
    "def extract_function_name(text):\n",
    "    # Find the first word after 'def' and before the first '(', if any.\n",
    "    match = re.search(r'(?:def|)(\\w+)\\(', text)\n",
    "    if match:\n",
    "        # The match object always has a 'group' method.\n",
    "        function_name = match.group(1)\n",
    "        return function_name\n",
    "    else:\n",
    "        # If there is no match, return an empty string.\n",
    "        return ''\n"
   ]
  },
  {
   "cell_type": "code",
   "execution_count": 74,
   "id": "aa3c85ca",
   "metadata": {},
   "outputs": [],
   "source": [
    "\n",
    "def extract_function_name_from_stacktrace(text):\n",
    "    \n",
    "    # Find the index of \" in \" and add 4 to get the start index\n",
    "    start_index = text.find(\" in \" ) + 4\n",
    "    \n",
    "    # Find the index of the next newline character\n",
    "    end_index = text.find(\"\\n\", start_index)\n",
    "    \n",
    "    # Extract the text between the two indices, and strip whitespace\n",
    "    extracted_text = text[start_index:end_index].strip()\n",
    "    \n",
    "    # Return the extracted text\n",
    "    return extract_function_name(extracted_text)\n",
    "\n"
   ]
  },
  {
   "cell_type": "code",
   "execution_count": 75,
   "id": "8358db34",
   "metadata": {},
   "outputs": [],
   "source": [
    "\n",
    "def split_string_last_cell_in(input_string):\n",
    "    # Find the last instance of \"Cell In\" in the string\n",
    "    index = input_string.rfind(\"Cell In\")\n",
    "    if index != -1:\n",
    "        # If there is an instance of \"Cell In\" in the string,\n",
    "        # then extract the function name from the stack trace\n",
    "        stack_trace = input_string[index:].strip()\n",
    "        func_name = extract_function_name_from_stacktrace(stack_trace)\n",
    "        if func_name:\n",
    "            return func_name\n",
    "        else:\n",
    "            return ''\n",
    "    else:\n",
    "        # If there is no instance of \"Cell In\" in the string,\n",
    "        # then return an empty string\n",
    "        return \"\"\n"
   ]
  },
  {
   "cell_type": "code",
   "execution_count": 76,
   "id": "d4696cc5",
   "metadata": {},
   "outputs": [],
   "source": [
    "\n",
    "def get_error_function():\n",
    "    \"\"\"Returns the source code of the last error function in the Err dictionary.\"\"\"\n",
    "    \n",
    "    # Get the name of the last function in the Err dictionary.\n",
    "    last_function_name = split_string_last_cell_in(Err[list(Err.keys())[-1]])\n",
    "    \n",
    "    # If the function exists in the global namespace and is callable, get its source code.\n",
    "    if last_function_name in globals() and callable(globals()[last_function_name]):\n",
    "        last_function = globals()[last_function_name]\n",
    "        function_definition = inspect.getsource(last_function)\n",
    "        return function_definition\n",
    "    \n",
    "    # If the function doesn't exist, print an error message and return an empty string.\n",
    "    else:\n",
    "        print(\"A function does not exist.\")\n",
    "        return ''\n"
   ]
  },
  {
   "cell_type": "code",
   "execution_count": 77,
   "id": "8fac2f2f-b046-4a49-b0f2-8a31b1f29131",
   "metadata": {
    "tags": []
   },
   "outputs": [],
   "source": [
    "def explain_error( model = \"text-davinci-003\"):\n",
    "    \n",
    "    # loop through all errors and get the last one\n",
    "    try:\n",
    "        err_index = list(Err.keys())[-1]\n",
    "    except NameError:\n",
    "        print('Everything is alright, no error to fix')\n",
    "        return \n",
    "    except Exception as e:\n",
    "        print(e)\n",
    "        return\n",
    "    else:\n",
    "        # get the error_code that produced the error\n",
    "        error_code = get_error_function() or In[err_index]\n",
    "        # get the number of characters in the previous error_code\n",
    "        char_no = 850 + len(Err[err_index]) + len(In[err_index]) # 850 is the length of prompt\n",
    "        # get the number of characters remaining\n",
    "        rest_char_no = 4000 - char_no\n",
    "        # create the prompt message\n",
    "        prompt = f'Error \\\"{Err[err_index][-rest_char_no:]} \\\" was produced from following error_code \\\"{error_code} \\\" .Explain the error. Rewrite error_code! Wrap your rewritten code in 5 brackets like this <<<<<  >>>>>, 5 ok! ',\n",
    "        response = openai.Completion.create(\n",
    "                  model=model,\n",
    "                  prompt=prompt,\n",
    "                  temperature=0,\n",
    "                  max_tokens=182,\n",
    "                  top_p=1.0,\n",
    "                  frequency_penalty=0.0,\n",
    "                  presence_penalty=0.0,\n",
    "                  stop=[\"###\"]\n",
    "                )    \n",
    "        return response['choices'][0]['text']"
   ]
  },
  {
   "cell_type": "code",
   "execution_count": 78,
   "id": "dff2168c-01b9-4bfe-8de1-deceb63b9c1d",
   "metadata": {
    "jupyter": {
     "source_hidden": true
    },
    "tags": []
   },
   "outputs": [],
   "source": [
    "def invoke_magic(magic_name, magic_arguments, code):\n",
    "    \"\"\"\n",
    "    Invoke a line or cell magic in Jupyter Notebook.\n",
    "\n",
    "    Args:\n",
    "        magic_name (str): Name of the magic, including the leading '%' character.\n",
    "        magic_arguments (str): Arguments to pass to the magic.\n",
    "        code (str): Code to execute within the magic.\n",
    "    \"\"\"\n",
    "    if magic_name.startswith(\"%%\"):\n",
    "       \n",
    "        return get_ipython().run_cell_magic(magic_name[2:], magic_arguments, code)\n",
    "    elif magic_name.startswith(\"%\"):\n",
    "        \n",
    "        return get_ipython().run_line_magic(magic_name[1:], magic_arguments)\n",
    "    else:\n",
    "        raise ValueError(\"Invalid magic name. Must start with '%%' for cell magic or '%' for line magic.\")\n",
    "\n",
    "def explain_error_with_chatgpt():\n",
    "    \n",
    "    func = show_function_definition(func) or In[-2]\n",
    "        \n",
    "    err_index = list(Err.keys())[-1]\n",
    "    revised_code = invoke_magic('%%ai','chatgpt',f'Following code \\\" {func} \\\" produces error \\\" {Err[err_index]} \\\".\\\n",
    "                                 do not Explain the error! Write correct code! Wrap your code in <<< your code >>>' )\n",
    "    \n",
    "    return revised_code\n",
    "            "
   ]
  },
  {
   "cell_type": "code",
   "execution_count": 79,
   "id": "1741e1ec-0a49-4ef9-9755-08fc3b5b4d5b",
   "metadata": {
    "tags": []
   },
   "outputs": [],
   "source": [
    "\n",
    "def revise_code(explanation):\n",
    "    \"\"\" This code checks to see if the explanation is valid and extracts the revised code from it.\n",
    "    \n",
    "    Args:\n",
    "        explanation: a string, the explanation text\n",
    "    \n",
    "    Returns:\n",
    "        revised_code: a string, the revised code or an empty string\n",
    "    \"\"\"\n",
    "    \n",
    "    if explanation:\n",
    "        print(\"Explanation:\\n\", explanation )\n",
    "        # Split the explanation at the start and end of the revised code\n",
    "        split_explanation = explanation.split(\"<<<<<\")#\" your code >>>>>\")\n",
    "        # Ensure that the explanation has the expected format\n",
    "        if len(split_explanation) >= 2:\n",
    "            # Extract and return the revised code\n",
    "            revised_code = split_explanation[1].split(\">>>>>\")[0]\n",
    "            return revised_code\n",
    "        else:\n",
    "            print(\"Invalid explanation format.\")\n",
    "    else:\n",
    "        print(\"No explanation provided.\")\n",
    "    \n",
    "    return \"\"  # Return an empty string if no revised code is available\n",
    "\n"
   ]
  },
  {
   "cell_type": "code",
   "execution_count": 80,
   "id": "f10e07c0-54e9-46be-a2de-bbe3048d06ea",
   "metadata": {
    "tags": []
   },
   "outputs": [],
   "source": [
    "# This code will emulate the user typing the command \"esc b\" then pressing enter.\n",
    "# Next, the code will emulate the user typing the command \"command v\" which will paste the previously copied text.\n",
    "\n",
    "def emulate_typing():\n",
    "    # Presses esc then b, then enter\n",
    "    pyautogui.hotkey('esc','b')\n",
    "    pyautogui.press('enter')\n",
    "\n",
    "    # Presses command then v\n",
    "    pyautogui.hotkey('command', 'v')\n"
   ]
  },
  {
   "cell_type": "code",
   "execution_count": null,
   "id": "75fe2be1",
   "metadata": {
    "tags": []
   },
   "outputs": [],
   "source": [
    "def code_error_fixer():\n",
    "    \"\"\" This code will get the error produced by the last line of code and then attempt to fix it.\"\"\"\n",
    "    \n",
    "    # Get the error and return an explanation\n",
    "    explained_error = explain_error()\n",
    "    logging.info('explained_error: {}'.format(explained_error))\n",
    "    \n",
    "    # If there is an error, try to fix it\n",
    "    if explained_error:\n",
    "        # Return the revised code\n",
    "        revised_code = revise_code(explained_error)\n",
    "        logging.info('revised_code: {}'.format(revised_code))\n",
    "        # If the revised code exists, format it and copy it to the clipboard\n",
    "        if revised_code:\n",
    "            print(format_python_code(revised_code))\n",
    "            pyperclip.copy(revised_code)\n",
    "            # Ask the user if they want to apply the revised code\n",
    "            your_choice = input('Apply code? Press Enter to apply code or any other key >> Enter to cancel')\n",
    "            if not your_choice:\n",
    "                emulate_typing()\n",
    "            else:\n",
    "                pass\n",
    "        else:\n",
    "            print('No suggestion')\n",
    "    else:\n",
    "        pass\n",
    "    "
   ]
  },
  {
   "cell_type": "code",
   "execution_count": 93,
   "id": "38681c51-73a3-4907-8a85-fa24a272628d",
   "metadata": {
    "tags": []
   },
   "outputs": [],
   "source": [
    "def copy_to_clipboard():\n",
    "    # try to copy the last error message in the Err dict to the clipboard\n",
    "    try:\n",
    "        pyperclip.copy(Err[list(Err.keys())[-1]])\n",
    "    except Exception:\n",
    "        pass\n",
    "copy_to_clipboard()"
   ]
  },
  {
   "cell_type": "code",
   "execution_count": 92,
   "id": "e1b64ef6-6a98-4707-9d67-618a60e6d72d",
   "metadata": {
    "tags": []
   },
   "outputs": [
    {
     "ename": "NameError",
     "evalue": "name 'Exceptio' is not defined",
     "output_type": "error",
     "traceback": [
      "\u001b[0;31m---------------------------------------------------------------------------\u001b[0m",
      "\u001b[0;31mAttributeError\u001b[0m                            Traceback (most recent call last)",
      "Cell \u001b[0;32mIn[92], line 4\u001b[0m, in \u001b[0;36mco\u001b[0;34m()\u001b[0m\n\u001b[1;32m      3\u001b[0m \u001b[38;5;28;01mtry\u001b[39;00m:\n\u001b[0;32m----> 4\u001b[0m     \u001b[43mpyperclip\u001b[49m\u001b[38;5;241;43m.\u001b[39;49m\u001b[43mcop\u001b[49m(Err[\u001b[38;5;28mlist\u001b[39m(Err\u001b[38;5;241m.\u001b[39mkeys())[\u001b[38;5;241m-\u001b[39m\u001b[38;5;241m1\u001b[39m]])\n\u001b[1;32m      5\u001b[0m \u001b[38;5;28;01mexcept\u001b[39;00m Exceptio:\n",
      "\u001b[0;31mAttributeError\u001b[0m: module 'pyperclip' has no attribute 'cop'",
      "\nDuring handling of the above exception, another exception occurred:\n",
      "\u001b[0;31mNameError\u001b[0m                                 Traceback (most recent call last)",
      "Cell \u001b[0;32mIn[92], line 7\u001b[0m\n\u001b[1;32m      5\u001b[0m     \u001b[38;5;28;01mexcept\u001b[39;00m Exceptio:\n\u001b[1;32m      6\u001b[0m         \u001b[38;5;28;01mpass\u001b[39;00m\n\u001b[0;32m----> 7\u001b[0m \u001b[43mco\u001b[49m\u001b[43m(\u001b[49m\u001b[43m)\u001b[49m\n\u001b[1;32m      9\u001b[0m code_error_fixer()\n",
      "Cell \u001b[0;32mIn[92], line 5\u001b[0m, in \u001b[0;36mco\u001b[0;34m()\u001b[0m\n\u001b[1;32m      3\u001b[0m \u001b[38;5;28;01mtry\u001b[39;00m:\n\u001b[1;32m      4\u001b[0m     pyperclip\u001b[38;5;241m.\u001b[39mcop(Err[\u001b[38;5;28mlist\u001b[39m(Err\u001b[38;5;241m.\u001b[39mkeys())[\u001b[38;5;241m-\u001b[39m\u001b[38;5;241m1\u001b[39m]])\n\u001b[0;32m----> 5\u001b[0m \u001b[38;5;28;01mexcept\u001b[39;00m \u001b[43mExceptio\u001b[49m:\n\u001b[1;32m      6\u001b[0m     \u001b[38;5;28;01mpass\u001b[39;00m\n",
      "\u001b[0;31mNameError\u001b[0m: name 'Exceptio' is not defined"
     ]
    }
   ],
   "source": [
    "code_error_fixer()"
   ]
  },
  {
   "cell_type": "code",
   "execution_count": null,
   "id": "412aaef6-b594-4c29-8161-36058e26bc56",
   "metadata": {
    "tags": []
   },
   "outputs": [],
   "source": [
    "Err[list(Err.key())[-1]]"
   ]
  },
  {
   "cell_type": "code",
   "execution_count": 94,
   "id": "912ca35f-7888-4c51-a5bf-0ba1c9f846c6",
   "metadata": {
    "tags": []
   },
   "outputs": [],
   "source": [
    "copy_to_clipboard()"
   ]
  },
  {
   "cell_type": "code",
   "execution_count": null,
   "id": "eb0b3bc5-e44a-41c8-bfc9-bcca1a049943",
   "metadata": {},
   "outputs": [],
   "source": []
  }
 ],
 "metadata": {
  "kernelspec": {
   "display_name": "jupyter-ai",
   "language": "python",
   "name": "jupyter-ai"
  },
  "language_info": {
   "codemirror_mode": {
    "name": "ipython",
    "version": 3
   },
   "file_extension": ".py",
   "mimetype": "text/x-python",
   "name": "python",
   "nbconvert_exporter": "python",
   "pygments_lexer": "ipython3",
   "version": "3.10.12"
  }
 },
 "nbformat": 4,
 "nbformat_minor": 5
}
