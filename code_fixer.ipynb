{
 "cells": [
  {
   "cell_type": "code",
   "execution_count": 1,
   "id": "45a5efd0-4f9e-4e8e-b38b-e8df04d959be",
   "metadata": {},
   "outputs": [],
   "source": [
    "%load_ext jupyter_ai_magics"
   ]
  },
  {
   "cell_type": "code",
   "execution_count": 2,
   "id": "1040da1a-3fc0-4f43-b620-8063c307ad2c",
   "metadata": {
    "tags": []
   },
   "outputs": [],
   "source": [
    "import re\n",
    "import openai\n",
    "import os\n",
    "import sys\n",
    "import inspect\n",
    "import pyperclip\n",
    "import pyautogui\n",
    "from colored import fg, attr\n",
    "\n",
    "openai.api_key = os.getenv(\"OPENAI_API_KEY\")"
   ]
  },
  {
   "cell_type": "code",
   "execution_count": 3,
   "id": "1e3ef099-759a-4123-8305-37ca05341abb",
   "metadata": {
    "tags": []
   },
   "outputs": [],
   "source": [
    "def format_python_code(code):\n",
    "    \n",
    "    indented_code = \"\"\n",
    "    lines = code.split('\\n')\n",
    "    for line in lines:\n",
    "        indented_code += \"    \" + line + \"\\n\"  # Add 4 spaces (or a tab) as indentation\n",
    "    return indented_code\n"
   ]
  },
  {
   "cell_type": "code",
   "execution_count": 4,
   "id": "7a50db77-3e60-474b-bebc-e8c17f95ab75",
   "metadata": {
    "tags": []
   },
   "outputs": [],
   "source": [
    "def show_function_definition(function):\n",
    "   \n",
    "    source_lines, _ = inspect.getsourcelines(function)\n",
    "    function_definition = ''.join(source_lines)\n",
    "    formatted_definition = format_python_code(function_definition)\n",
    "    \n",
    "    return formatted_definition\n"
   ]
  },
  {
   "cell_type": "code",
   "execution_count": 5,
   "id": "a02ade39-6709-4060-b708-1b4ed024abf0",
   "metadata": {
    "tags": []
   },
   "outputs": [],
   "source": [
    "def extract_function_name(text):\n",
    "    \n",
    "    match = re.search(r'(\\w+)\\(', text)\n",
    "    if match:\n",
    "        function_name = match.group(1)\n",
    "        return function_name\n",
    "    else:\n",
    "        return ''\n",
    "\n",
    "\n",
    "def extract_text_between_in_and_newline(text):\n",
    "    \n",
    "    start_index = text.find(\" in \" ) + 4\n",
    "    end_index = text.find(\"\\n\", start_index)\n",
    "    extracted_text = text[start_index:end_index].strip()\n",
    "    \n",
    "    return extract_function_name(extracted_text)\n",
    "\n",
    "\n",
    "def split_string_last_cell_in(input_string):\n",
    "    \n",
    "    index = input_string.rfind(\"Cell In\")\n",
    "    if index != -1:\n",
    "        \n",
    "        stack_trace = input_string[index:].strip()\n",
    "        \n",
    "        func_name = extract_text_between_in_and_newline(stack_trace)\n",
    "        if func_name:\n",
    "            return func_name\n",
    "        else:\n",
    "            return ''\n",
    "    else:\n",
    "        return \"\"\n",
    "\n",
    "def get_error_function():\n",
    "    \n",
    "    function_name = split_string_last_cell_in(Err[list(Err.keys())[-1]])\n",
    "    if function_name in globals() and callable(globals()[function_name]):\n",
    "        func = globals()[function_name]\n",
    "        function_definition = inspect.getsource(func)\n",
    "        return function_definition\n",
    "    else:\n",
    "        print(\"Function\", function_name, \"does not exist.\")\n",
    "        return ''\n"
   ]
  },
  {
   "cell_type": "code",
   "execution_count": 6,
   "id": "7d5059ae-c872-4783-a8d2-5f4ddb3741f8",
   "metadata": {
    "tags": []
   },
   "outputs": [],
   "source": [
    "def format_python_code(code):\n",
    "    keywords = ['and', 'as', 'assert', 'break', 'class', 'continue', 'def', 'del', 'elif', 'else', 'except',\n",
    "                'finally', 'for', 'from', 'global', 'if', 'import', 'in', 'is', 'lambda', 'not', 'or', 'pass',\n",
    "                'raise', 'return', 'try', 'while', 'with', 'yield']\n",
    "\n",
    "    # Regular expression pattern to match text between quotes\n",
    "    quotes_pattern = r'([\\'\"])(.*?)\\1'\n",
    "\n",
    "    formatted_code = \"\"\n",
    "    for line in code.split('\\n'):\n",
    "        # Check if the line contains a function definition\n",
    "        if line.startswith('def'):\n",
    "            # Extract the function name using regular expression\n",
    "            match = re.search(r'def\\s+(\\w+)\\s*\\(', line)\n",
    "            if match:\n",
    "                function_name = match.group(1)\n",
    "                # Set the color to blue for the function name\n",
    "                line = line.replace(match.group(1), fg('blue') + function_name + attr('reset'))\n",
    "\n",
    "        # Process the line and highlight keywords\n",
    "        for word in line.split():\n",
    "            if word in keywords:\n",
    "                # Set the color to green for Python keywords\n",
    "                line = line.replace(word, fg('green') + word + attr('reset'))\n",
    "\n",
    "        # Highlight text between quotes in red\n",
    "        matches = re.findall(quotes_pattern, line)\n",
    "        for match in matches:\n",
    "            text_between_quotes = match[1]\n",
    "            # Set the color to red for the text between quotes\n",
    "            line = line.replace(match[0] + text_between_quotes + match[0],\n",
    "                                match[0] + fg('red') + text_between_quotes + attr('reset') + match[0])\n",
    "\n",
    "        # Highlight function call to `str` in blue\n",
    "        line = re.sub(r'(\\bstr\\b)(?=\\()', fg('blue') + r'\\1' + attr('reset'), line)\n",
    "\n",
    "        formatted_code += line + '\\n'\n",
    "\n",
    "    return formatted_code\n"
   ]
  },
  {
   "cell_type": "code",
   "execution_count": 7,
   "id": "04220c9f-9240-4f20-9b99-972cee0c6c60",
   "metadata": {
    "tags": []
   },
   "outputs": [
    {
     "name": "stdout",
     "output_type": "stream",
     "text": [
      "\n",
      "\u001b[38;5;2mdef\u001b[0m \u001b[38;5;4mcalculate_sum\u001b[0m(a, b):\n",
      "    result = \"\u001b[38;5;1mThe sum of a \u001b[38;5;2mand\u001b[0m b is: \u001b[0m\" + \u001b[38;5;4mstr\u001b[0m(a + b)\n",
      "    message = '\u001b[38;5;1mHello, world!\u001b[0m'\n",
      "    \u001b[38;5;2mreturn\u001b[0m result, message\n",
      "\n",
      "\u001b[38;5;2mdef\u001b[0m \u001b[38;5;4mmultiply_numbers\u001b[0m(x, y):\n",
      "    product = \"\u001b[38;5;1mThe product of x \u001b[38;5;2mand\u001b[0m y is: \u001b[0m\" + \u001b[38;5;4mstr\u001b[0m(x * y)\n",
      "    \u001b[38;5;2mreturn\u001b[0m product\n",
      "\n",
      "\n"
     ]
    }
   ],
   "source": [
    "def format_python_code(code):\n",
    "    keywords = ['and', 'as', 'assert', 'break', 'class', 'continue', 'def', 'del', 'elif', 'else', 'except',\n",
    "                'finally', 'for', 'from', 'global', 'if', 'import', 'in', 'is', 'lambda', 'not', 'or', 'pass',\n",
    "                'raise', 'return', 'try', 'while', 'with', 'yield']\n",
    "\n",
    "    # Regular expression pattern to match text between quotes\n",
    "    quotes_pattern = r'([\\'\"])(.*?)\\1'\n",
    "\n",
    "    formatted_code = \"\"\n",
    "    for line in code.split('\\n'):\n",
    "        # Check if the line contains a function definition\n",
    "        if line.startswith('def'):\n",
    "            # Extract the function name using regular expression\n",
    "            match = re.search(r'def\\s+(\\w+)\\s*\\(', line)\n",
    "            if match:\n",
    "                function_name = match.group(1)\n",
    "                # Set the color to blue for the function name\n",
    "                line = line.replace(match.group(1), fg('blue') + function_name + attr('reset'))\n",
    "\n",
    "        # Process the line and highlight keywords\n",
    "        for word in line.split():\n",
    "            if word in keywords:\n",
    "                # Set the color to green for Python keywords\n",
    "                line = line.replace(word, fg('green') + word + attr('reset'))\n",
    "\n",
    "        # Highlight text between quotes in red\n",
    "        matches = re.findall(quotes_pattern, line)\n",
    "        for match in matches:\n",
    "            text_between_quotes = match[1]\n",
    "            # Set the color to red for the text between quotes\n",
    "            line = line.replace(match[0] + text_between_quotes + match[0],\n",
    "                                match[0] + fg('red') + text_between_quotes + attr('reset') + match[0])\n",
    "\n",
    "        # Highlight function call to `str` in blue\n",
    "        line = re.sub(r'(\\bstr\\b)(?=\\()', fg('blue') + r'\\1' + attr('reset'), line)\n",
    "\n",
    "        formatted_code += line + '\\n'\n",
    "\n",
    "    return formatted_code\n",
    "\n",
    "# Example usage\n",
    "code = '''\n",
    "def calculate_sum(a, b):\n",
    "    result = \"The sum of a and b is: \" + str(a + b)\n",
    "    message = 'Hello, world!'\n",
    "    return result, message\n",
    "\n",
    "def multiply_numbers(x, y):\n",
    "    product = \"The product of x and y is: \" + str(x * y)\n",
    "    return product\n",
    "'''\n",
    "\n",
    "formatted_code = format_python_code(code)\n",
    "print(formatted_code)\n"
   ]
  },
  {
   "cell_type": "code",
   "execution_count": 8,
   "id": "8fac2f2f-b046-4a49-b0f2-8a31b1f29131",
   "metadata": {
    "tags": []
   },
   "outputs": [],
   "source": [
    "def explain_error( model = \"text-davinci-003\"):\n",
    "    \n",
    "    try:\n",
    "        err_index = list(Err.keys())[-1]\n",
    "    \n",
    "    except NameError:\n",
    "        \n",
    "        print('Everything is alright, no error to fix')\n",
    "        return \n",
    "    except Exception as e:\n",
    "        print(e)\n",
    "        return\n",
    "    \n",
    "    else:\n",
    "        \n",
    "        code = get_error_function() or In[err_index]\n",
    "        char_no = 850 + len(Err[err_index]) + len(In[err_index]) # 850 is the length of prompt\n",
    "        rest_char_no = 4000 - char_no\n",
    "        prompt = f'Error \\\"{Err[err_index][-rest_char_no:]} \\\" was produced from following code \\\"{code} \\\" .Explain the error. Rewrite code! Wrap your rewritten code in <<<<< your code >>>>>',\n",
    "\n",
    "        response = openai.Completion.create(\n",
    "                  model=model,\n",
    "                  prompt=prompt,\n",
    "                  temperature=0,\n",
    "                  max_tokens=182,\n",
    "                  top_p=1.0,\n",
    "                  frequency_penalty=0.0,\n",
    "                  presence_penalty=0.0,\n",
    "                  stop=[\"###\"]\n",
    "                )    \n",
    "        return response['choices'][0]['text']"
   ]
  },
  {
   "cell_type": "code",
   "execution_count": 9,
   "id": "dff2168c-01b9-4bfe-8de1-deceb63b9c1d",
   "metadata": {
    "jupyter": {
     "source_hidden": true
    },
    "tags": []
   },
   "outputs": [],
   "source": [
    "def invoke_magic(magic_name, magic_arguments, code):\n",
    "    \"\"\"\n",
    "    Invoke a line or cell magic in Jupyter Notebook.\n",
    "\n",
    "    Args:\n",
    "        magic_name (str): Name of the magic, including the leading '%' character.\n",
    "        magic_arguments (str): Arguments to pass to the magic.\n",
    "        code (str): Code to execute within the magic.\n",
    "    \"\"\"\n",
    "    if magic_name.startswith(\"%%\"):\n",
    "       \n",
    "        return get_ipython().run_cell_magic(magic_name[2:], magic_arguments, code)\n",
    "    elif magic_name.startswith(\"%\"):\n",
    "        \n",
    "        return get_ipython().run_line_magic(magic_name[1:], magic_arguments)\n",
    "    else:\n",
    "        raise ValueError(\"Invalid magic name. Must start with '%%' for cell magic or '%' for line magic.\")\n",
    "\n",
    "def explain_error_with_chatgpt(func=None):\n",
    "    \n",
    "    if not func:\n",
    "        func = In[-2]\n",
    "    else:\n",
    "        func = show_function_definition(func)\n",
    "        \n",
    "    err_index = list(Err.keys())[-1]\n",
    "    revised_code = invoke_magic('%%ai','chatgpt',f'Following code \\\" {func} \\\" produces error \\\" {Err[err_index]} \\\".\\\n",
    "                                 do not Explain the error! Write correct code! Wrap your code in <<< your code >>>' )\n",
    "    \n",
    "    return revised_code\n",
    "            "
   ]
  },
  {
   "cell_type": "code",
   "execution_count": 23,
   "id": "1741e1ec-0a49-4ef9-9755-08fc3b5b4d5b",
   "metadata": {
    "tags": []
   },
   "outputs": [],
   "source": [
    "def revise_code(explanation):\n",
    "    \n",
    "    if explanation:\n",
    "        split_explanation = explanation.split(\"<<<<<\")#\" your code >>>>>\")\n",
    "        if len(split_explanation) >= 2:\n",
    "            revised_code = split_explanation[1].split(\">>>>>\")[0]\n",
    "            return revised_code\n",
    "        else:\n",
    "            print(\"Invalid explanation format.\")\n",
    "    else:\n",
    "        print(\"No explanation provided.\")\n",
    "    \n",
    "    return \"\"  # Return an empty string if no revised code is available\n"
   ]
  },
  {
   "cell_type": "code",
   "execution_count": 11,
   "id": "f10e07c0-54e9-46be-a2de-bbe3048d06ea",
   "metadata": {
    "tags": []
   },
   "outputs": [],
   "source": [
    "def emulate_typing():\n",
    "    \n",
    "    pyautogui.hotkey('esc','b')\n",
    "    pyautogui.press('enter')\n",
    "    pyautogui.hotkey('command', 'v')\n"
   ]
  },
  {
   "cell_type": "code",
   "execution_count": 32,
   "id": "a61023b1-00be-40e8-8437-8cd0bf56a4a0",
   "metadata": {
    "tags": []
   },
   "outputs": [
    {
     "name": "stdout",
     "output_type": "stream",
     "text": [
      "Function  does not exist.\n",
      " Err[list(Err.keys())[-1]] \n",
      "\n"
     ]
    },
    {
     "name": "stdout",
     "output_type": "stream",
     "text": [
      "Apply code? Press Enter to apply code or any other key >> Enter to cancel #\n"
     ]
    }
   ],
   "source": [
    "import logging\n"
   ]
  },
  {
   "cell_type": "code",
   "execution_count": null,
   "id": "75fe2be1",
   "metadata": {},
   "outputs": [],
   "source": [
    "\n",
    "def code_error_fixer():\n",
    "    # This function tries to fix code errors\n",
    "    # It does this by first finding the error, then explaining the error, and then suggesting possible solutions\n",
    "    # If the user chooses to apply the suggested solution, then the solution is copied to the clipboard\n",
    "    # The user can then paste the solution into their code\n",
    "    # If the user chooses not to apply the suggested solution, then the solution is not copied to the clipboard\n",
    "\n",
    "    # Find the error\n",
    "    # This function returns the error message if it finds an error, or None if it does not find an error\n",
    "    error_message = find_error()\n",
    "\n",
    "    # Explain the error\n",
    "    # This function returns an explanation of the error if it finds an error, or None if it does not find an error\n",
    "    explanation = explain_error(error_message)\n",
    "\n",
    "    # Suggest possible solutions\n",
    "    # This function returns a list of possible solutions if it finds an error, or None if it does not find an error\n",
    "    suggested_solutions = suggest_solutions(explanation)\n",
    "\n",
    "    # If there are any suggested solutions, then ask the user if they want to apply them\n",
    "    if suggested_solutions:\n",
    "        # Print the suggested solutions\n",
    "        print(suggested_solutions)\n",
    "\n",
    "        # Ask the user if they want to apply the suggested solutions\n",
    "        # This function returns True if the user wants to apply the suggested solutions, or False if they do not\n",
    "        apply_suggested_solutions = ask_user_if_they_want_to_apply_suggested_solutions()\n",
    "\n",
    "        # If the user wants to apply the suggested solutions, then copy the suggested solutions to the clipboard\n",
    "        if apply_suggested_solutions:\n",
    "            copy_suggested_solutions_to_clipboard(suggested_solutions)\n",
    "\n",
    "    # If there are no suggested solutions, then print a message to the user\n",
    "    else:\n",
    "        print('No suggested solutions')\n",
    "\n",
    "\n",
    "def code_error_fixer():\n",
    "    logging.info('Starting code_error_fixer')\n",
    "    # Get the error and return an explanation\n",
    "    explained_error = explain_error()\n",
    "    logging.info('explained_error: {}'.format(explained_error))\n",
    "    \n",
    "    # If there is an error, try to fix it\n",
    "    if explained_error:\n",
    "        # Return the revised code\n",
    "        revised_code = revise_code(explained_error)\n",
    "        logging.info('revised_code: {}'.format(revised_code))\n",
    "        # If the revised code exists, format it and copy it to the clipboard\n",
    "        if revised_code:\n",
    "            print(format_python_code(revised_code))\n",
    "            pyperclip.copy(revised_code)\n",
    "            # Ask the user if they want to apply the revised code\n",
    "            your_choice = input('Apply code? Press Enter to apply code or any other key >> Enter to cancel')\n",
    "            if not your_choice:\n",
    "                emulate_typing()\n",
    "            else:\n",
    "                pass\n",
    "        else:\n",
    "            print('No suggestion')\n",
    "    else:\n",
    "        print('No error found')\n",
    "    logging.info('Ending code_error_fixer')\n",
    "code_error_fixer()"
   ]
  },
  {
   "cell_type": "code",
   "execution_count": 18,
   "id": "4eabe2f1-6b55-4103-bd26-c8654ba79ff8",
   "metadata": {
    "tags": []
   },
   "outputs": [],
   "source": [
    "def c():\n",
    "    # try to copy the last error message in the Err dict to the clipboard\n",
    "    try:\n",
    "        pyperclip.copy(Err[list(Err.keys())[-1]])\n",
    "    except Exception:\n",
    "        pass\n",
    "c()"
   ]
  },
  {
   "attachments": {},
   "cell_type": "markdown",
   "id": "ed745502",
   "metadata": {},
   "source": []
  },
  {
   "cell_type": "code",
   "execution_count": 28,
   "id": "412aaef6-b594-4c29-8161-36058e26bc56",
   "metadata": {
    "tags": []
   },
   "outputs": [
    {
     "ename": "AttributeError",
     "evalue": "'dict' object has no attribute 'key'",
     "output_type": "error",
     "traceback": [
      "\u001b[0;31m---------------------------------------------------------------------------\u001b[0m",
      "\u001b[0;31mAttributeError\u001b[0m                            Traceback (most recent call last)",
      "Cell \u001b[0;32mIn[28], line 1\u001b[0m\n\u001b[0;32m----> 1\u001b[0m Err[\u001b[38;5;28mlist\u001b[39m(\u001b[43mErr\u001b[49m\u001b[38;5;241;43m.\u001b[39;49m\u001b[43mkey\u001b[49m())[\u001b[38;5;241m-\u001b[39m\u001b[38;5;241m1\u001b[39m]]\n",
      "\u001b[0;31mAttributeError\u001b[0m: 'dict' object has no attribute 'key'"
     ]
    }
   ],
   "source": [
    "Err[list(Err.key())[-1]]"
   ]
  },
  {
   "cell_type": "code",
   "execution_count": null,
   "id": "98c2dd15-a254-4f97-80fd-11c5bffd2ed4",
   "metadata": {},
   "outputs": [],
   "source": []
  },
  {
   "cell_type": "code",
   "execution_count": null,
   "id": "bc02a4ad-e2d2-4c10-bec2-bec529b570ce",
   "metadata": {},
   "outputs": [],
   "source": []
  }
 ],
 "metadata": {
  "kernelspec": {
   "display_name": "jupyter-ai",
   "language": "python",
   "name": "jupyter-ai"
  },
  "language_info": {
   "codemirror_mode": {
    "name": "ipython",
    "version": 3
   },
   "file_extension": ".py",
   "mimetype": "text/x-python",
   "name": "python",
   "nbconvert_exporter": "python",
   "pygments_lexer": "ipython3",
   "version": "3.10.12"
  }
 },
 "nbformat": 4,
 "nbformat_minor": 5
}
