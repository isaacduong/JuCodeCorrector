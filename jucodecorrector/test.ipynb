{
 "cells": [
  {
   "cell_type": "code",
   "execution_count": 1,
   "id": "d113e3d6-fb21-4522-88a9-0c267bdb25fa",
   "metadata": {
    "tags": []
   },
   "outputs": [],
   "source": [
    "import re\n",
    "import openai\n",
    "import os\n",
    "\n",
    "from jucodecorrector import code_fixer_assistent"
   ]
  },
  {
   "cell_type": "code",
   "execution_count": 2,
   "id": "daf9622a-a876-4557-8016-3f84e10ee736",
   "metadata": {
    "tags": []
   },
   "outputs": [],
   "source": [
    "# jupyter_ai_magics is required\n",
    "%load_ext jupyter_ai_magics"
   ]
  },
  {
   "cell_type": "code",
   "execution_count": 3,
   "id": "0cbce95c-e9e0-4ba7-9b56-d986caa825cf",
   "metadata": {},
   "outputs": [],
   "source": [
    "# provide your OPENAI_API_KEY\n",
    "OPENAI_API_KEY = os.getenv(\"OPENAI_API_KEY\")"
   ]
  },
  {
   "cell_type": "code",
   "execution_count": 4,
   "id": "4dceb35b-35c1-4930-b12c-3f500f27ab02",
   "metadata": {
    "tags": []
   },
   "outputs": [],
   "source": [
    "corrector = code_fixer_assistent.AiCodeCorrector(openai_key=OPENAI_API_KEY)"
   ]
  },
  {
   "cell_type": "markdown",
   "id": "256230ec-b15c-4239-ab2c-b75e851e3c44",
   "metadata": {},
   "source": [
    "## Piece of code, which causes error"
   ]
  },
  {
   "cell_type": "code",
   "execution_count": 5,
   "id": "9efe2b92-b851-4c67-86cf-5f242da80c3a",
   "metadata": {
    "tags": []
   },
   "outputs": [
    {
     "ename": "NameError",
     "evalue": "name 'co' is not defined",
     "output_type": "error",
     "traceback": [
      "\u001b[0;31m---------------------------------------------------------------------------\u001b[0m",
      "\u001b[0;31mNameError\u001b[0m                                 Traceback (most recent call last)",
      "Cell \u001b[0;32mIn[5], line 5\u001b[0m, in \u001b[0;36mformat_python_code\u001b[0;34m(code)\u001b[0m\n\u001b[1;32m      4\u001b[0m \u001b[38;5;28;01mtry\u001b[39;00m:\n\u001b[0;32m----> 5\u001b[0m     formatted_code \u001b[38;5;241m=\u001b[39m \u001b[43mblack\u001b[49m\u001b[38;5;241m.\u001b[39mformat_str(code, mode\u001b[38;5;241m=\u001b[39mblack\u001b[38;5;241m.\u001b[39mFileMode())\n\u001b[1;32m      6\u001b[0m \u001b[38;5;28;01mexcept\u001b[39;00m \u001b[38;5;167;01mException\u001b[39;00m:\n",
      "\u001b[0;31mNameError\u001b[0m: name 'black' is not defined",
      "\nDuring handling of the above exception, another exception occurred:\n",
      "\u001b[0;31mNameError\u001b[0m                                 Traceback (most recent call last)",
      "Cell \u001b[0;32mIn[5], line 14\u001b[0m\n\u001b[1;32m      9\u001b[0m     \u001b[38;5;28;01mreturn\u001b[39;00m formatted_code\n\u001b[1;32m     11\u001b[0m code\u001b[38;5;241m=\u001b[39m\u001b[38;5;124m\"\"\"\u001b[39m\u001b[38;5;124mdef copy_to_clipboard():\u001b[39m\n\u001b[1;32m     12\u001b[0m \u001b[38;5;124m    # try to copy the last error message in the Err dict to the clipboard\u001b[39m\n\u001b[1;32m     13\u001b[0m \u001b[38;5;124m   \u001b[39m\u001b[38;5;124m\"\"\"\u001b[39m\n\u001b[0;32m---> 14\u001b[0m \u001b[43mformat_python_code\u001b[49m\u001b[43m(\u001b[49m\u001b[43mcode\u001b[49m\u001b[43m)\u001b[49m\n",
      "Cell \u001b[0;32mIn[5], line 7\u001b[0m, in \u001b[0;36mformat_python_code\u001b[0;34m(code)\u001b[0m\n\u001b[1;32m      5\u001b[0m     formatted_code \u001b[38;5;241m=\u001b[39m black\u001b[38;5;241m.\u001b[39mformat_str(code, mode\u001b[38;5;241m=\u001b[39mblack\u001b[38;5;241m.\u001b[39mFileMode())\n\u001b[1;32m      6\u001b[0m \u001b[38;5;28;01mexcept\u001b[39;00m \u001b[38;5;167;01mException\u001b[39;00m:\n\u001b[0;32m----> 7\u001b[0m     formatted_code \u001b[38;5;241m=\u001b[39m \u001b[43mco\u001b[49m \u001b[38;5;66;03m# Error \u001b[39;00m\n\u001b[1;32m      9\u001b[0m \u001b[38;5;28;01mreturn\u001b[39;00m formatted_code\n",
      "\u001b[0;31mNameError\u001b[0m: name 'co' is not defined"
     ]
    }
   ],
   "source": [
    "def format_python_code(code):\n",
    "    \n",
    "    \"\"\"Return a formatted version of Python code.\"\"\"\n",
    "    try:\n",
    "        formatted_code = black.format_str(code, mode=black.FileMode())\n",
    "    except Exception:\n",
    "        formatted_code = co # Error \n",
    "    \n",
    "    return formatted_code\n",
    "\n",
    "code=\"\"\"def copy_to_clipboard():\n",
    "    # try to copy the last error message in the Err dict to the clipboard\n",
    "   \"\"\"\n",
    "format_python_code(code)"
   ]
  },
  {
   "cell_type": "code",
   "execution_count": 7,
   "id": "f988884e-e278-4883-bfde-cbc7e066fc29",
   "metadata": {
    "tags": []
   },
   "outputs": [
    {
     "name": "stdout",
     "output_type": "stream",
     "text": [
      "Bot is coding! Please wait for a few seconds...\n",
      "Explanation: \n",
      "\n",
      "\n",
      " \u001b[37m\u001b[39;49;00m\n",
      "\u001b[34mimport\u001b[39;49;00m \u001b[04m\u001b[36mblack\u001b[39;49;00m \u001b[37m\u001b[39;49;00m\n",
      "\u001b[34mdef\u001b[39;49;00m \u001b[32mformat_python_code\u001b[39;49;00m(code):\u001b[37m\u001b[39;49;00m\n",
      "\u001b[37m\u001b[39;49;00m\n",
      "\u001b[37m    \u001b[39;49;00m\u001b[33m\"\"\"Return a formatted version of Python code.\"\"\"\u001b[39;49;00m\u001b[37m\u001b[39;49;00m\n",
      "    \u001b[34mtry\u001b[39;49;00m:\u001b[37m\u001b[39;49;00m\n",
      "        formatted_code = black.format_str(code, mode=black.FileMode())\u001b[37m\u001b[39;49;00m\n",
      "    \u001b[34mexcept\u001b[39;49;00m \u001b[36mException\u001b[39;49;00m \u001b[34mas\u001b[39;49;00m e:   \u001b[37m# Error handling for any possible exceptions that may occur when calling the function. \u001b[39;49;00m\u001b[37m\u001b[39;49;00m\n",
      "        \u001b[36mprint\u001b[39;49;00m(\u001b[33m\"\u001b[39;49;00m\u001b[33mAn error occurred while formatting the code:\u001b[39;49;00m\u001b[33m\"\u001b[39;49;00m, e)\u001b[37m\u001b[39;49;00m\n",
      "\u001b[37m\u001b[39;49;00m\n",
      "    \u001b[34mreturn\u001b[39;49;00m formatted_code \u001b[37m\u001b[39;49;00m\n",
      "\n"
     ]
    },
    {
     "data": {
      "application/vnd.jupyter.widget-view+json": {
       "model_id": "096b891f48644ba18ebd79b771daf7bb",
       "version_major": 2,
       "version_minor": 0
      },
      "text/plain": [
       "Button(description='Try another code', style=ButtonStyle())"
      ]
     },
     "metadata": {},
     "output_type": "display_data"
    },
    {
     "data": {
      "application/vnd.jupyter.widget-view+json": {
       "model_id": "998704df4da84b569a7663dd825aff83",
       "version_major": 2,
       "version_minor": 0
      },
      "text/plain": [
       "Button(description='Apply code', style=ButtonStyle(button_color='blue'))"
      ]
     },
     "metadata": {},
     "output_type": "display_data"
    }
   ],
   "source": [
    "corrector.fix_broken_code() # call the fix_broken_code function to generate code suggestion"
   ]
  },
  {
   "cell_type": "code",
   "execution_count": null,
   "id": "b0779a44",
   "metadata": {},
   "outputs": [],
   "source": [
    " \n",
    "import black\n",
    "def format_python_code(code):\n",
    "\n",
    "    \"\"\"Return a formatted version of Python code.\"\"\"\n",
    "    try:\n",
    "        formatted_code = black.format_str(code, mode=black.FileMode())\n",
    "    except Exception:  # Error handling for any possible exceptions that may occur when calling the function. \n",
    "        print(\"An error occurred while formatting the code\")\n",
    "\n",
    "    return formatted_code "
   ]
  },
  {
   "cell_type": "markdown",
   "id": "ebb90091-e270-420d-9c18-29d374eda765",
   "metadata": {
    "tags": []
   },
   "source": [
    "##  The model successfully determines and correct two errors in code. By clicking the button \"Apply code\", this code snippet will be pasted to subsequent code cell as below."
   ]
  },
  {
   "cell_type": "code",
   "execution_count": null,
   "id": "635b918e-7462-4490-a8de-743c11f760dc",
   "metadata": {},
   "outputs": [],
   "source": [
    "\n",
    "def format_python_code(code):\n",
    "\n",
    "    \"\"\"Return a formatted version of Python code.\"\"\"\n",
    "\n",
    "    import black # Imported the library \n",
    "\n",
    "    try:\n",
    "        formatted_code = black.format_str(code, mode=black.FileMode())\n",
    "    except Exception as err: # Added an exception handler to catch any errors in formatting and print them out \n",
    "        print(\"There was an error formatting the code:\\n\", err)\n",
    "\n",
    "    return formatted_code\n"
   ]
  },
  {
   "cell_type": "code",
   "execution_count": null,
   "id": "1c68858e-3638-46f4-a595-24af0a1906e0",
   "metadata": {},
   "outputs": [],
   "source": [
    " \n",
    "def format_python_code(code):    \n",
    "    \"\"\"Return a formatted version of Python code.\"\"\"\n",
    "\n",
    "    # Import 'black' module and set file mode for formatting\n",
    "    import black \n",
    "    file_mode = black.FileMode()\n",
    "\n",
    "    try: \n",
    "        formatted_code = black.format_str(code, mode=file_mode)\n",
    "\n",
    "    except Exception as err: \n",
    "        print(\"An exception occurred while formatting the code: {}\".format(err))\n",
    "\n",
    "        # Handle any errors that occur during formatting by returning the original unformatted code instead \n",
    "        formatted_code = code  \n",
    "\n",
    "    return formatted_code \n"
   ]
  },
  {
   "cell_type": "markdown",
   "id": "a2242095-2a62-4d92-a5ee-eef025df8f30",
   "metadata": {
    "tags": []
   },
   "source": [
    "## Another piece of error code"
   ]
  },
  {
   "cell_type": "code",
   "execution_count": 8,
   "id": "60f01e77-11a4-43dc-933c-1533303460df",
   "metadata": {},
   "outputs": [],
   "source": [
    "def show_function_definition(function):\n",
    "    \"\"\"Return the source code for a function.\"\"\"\n",
    "\n",
    "    try:\n",
    "        source_lines, _ = inspect.getsourcelines(function)\n",
    "    except TypeError:\n",
    "        \n",
    "        return \"This function does not have a definition.\"\n",
    "    except OSError:\n",
    "        return \"This function does not have a definition.\"\n",
    "    \n",
    "    # Join the lines together into a single string.\n",
    "    function_definition = ''.join(source_lines)\n",
    "    \n",
    "    # Format the code using the format_python_code function.\n",
    "    formatted_definition = format_python_code(function_definition)\n",
    "    \n",
    "    return formatted_definition"
   ]
  },
  {
   "cell_type": "code",
   "execution_count": 9,
   "id": "1ceaa2d8-35d6-42b0-9f15-e2b6c32b11f0",
   "metadata": {
    "tags": []
   },
   "outputs": [
    {
     "ename": "NameError",
     "evalue": "name 'inspect' is not defined",
     "output_type": "error",
     "traceback": [
      "\u001b[0;31m---------------------------------------------------------------------------\u001b[0m",
      "\u001b[0;31mNameError\u001b[0m                                 Traceback (most recent call last)",
      "Cell \u001b[0;32mIn[9], line 1\u001b[0m\n\u001b[0;32m----> 1\u001b[0m \u001b[43mshow_function_definition\u001b[49m\u001b[43m(\u001b[49m\u001b[43mformat_python_code\u001b[49m\u001b[43m)\u001b[49m\n",
      "Cell \u001b[0;32mIn[8], line 5\u001b[0m, in \u001b[0;36mshow_function_definition\u001b[0;34m(function)\u001b[0m\n\u001b[1;32m      2\u001b[0m \u001b[38;5;250m\u001b[39m\u001b[38;5;124;03m\"\"\"Return the source code for a function.\"\"\"\u001b[39;00m\n\u001b[1;32m      4\u001b[0m \u001b[38;5;28;01mtry\u001b[39;00m:\n\u001b[0;32m----> 5\u001b[0m     source_lines, _ \u001b[38;5;241m=\u001b[39m \u001b[43minspect\u001b[49m\u001b[38;5;241m.\u001b[39mgetsourcelines(function)\n\u001b[1;32m      6\u001b[0m \u001b[38;5;28;01mexcept\u001b[39;00m \u001b[38;5;167;01mTypeError\u001b[39;00m:\n\u001b[1;32m      8\u001b[0m     \u001b[38;5;28;01mreturn\u001b[39;00m \u001b[38;5;124m\"\u001b[39m\u001b[38;5;124mThis function does not have a definition.\u001b[39m\u001b[38;5;124m\"\u001b[39m\n",
      "\u001b[0;31mNameError\u001b[0m: name 'inspect' is not defined"
     ]
    }
   ],
   "source": [
    "show_function_definition(format_python_code)"
   ]
  },
  {
   "cell_type": "code",
   "execution_count": 10,
   "id": "b9b93db5-cdad-4f5a-bf96-800dab5761f0",
   "metadata": {
    "tags": []
   },
   "outputs": [
    {
     "name": "stdout",
     "output_type": "stream",
     "text": [
      "Bot is coding! Please wait for a few seconds...\n",
      "Explanation: \n",
      "\n",
      "The error occurs because the inspect module has not been imported. To fix this, we need to import the inspect module at the top of the file. Additionally, we should also modify the except block to handle OSError exceptions which can occur when getting source lines from a function. \n",
      "\n",
      "\n",
      " \u001b[37m\u001b[39;49;00m\n",
      "\u001b[34mimport\u001b[39;49;00m \u001b[04m\u001b[36minspect\u001b[39;49;00m \u001b[37m\u001b[39;49;00m\n",
      "\u001b[34mimport\u001b[39;49;00m \u001b[04m\u001b[36mblack\u001b[39;49;00m \u001b[37m\u001b[39;49;00m\n",
      "\u001b[34mdef\u001b[39;49;00m \u001b[32mformat_python_code\u001b[39;49;00m(code):\u001b[37m\u001b[39;49;00m\n",
      "\u001b[37m\u001b[39;49;00m\n",
      "\u001b[37m    \u001b[39;49;00m\u001b[33m\"\"\"Return a formatted version of Python code.\"\"\"\u001b[39;49;00m\u001b[37m\u001b[39;49;00m\n",
      "    \u001b[34mtry\u001b[39;49;00m:\u001b[37m\u001b[39;49;00m\n",
      "        formatted_code = black.format_str(code, mode=black.FileMode())\u001b[37m\u001b[39;49;00m\n",
      "    \u001b[34mexcept\u001b[39;49;00m \u001b[36mException\u001b[39;49;00m \u001b[34mas\u001b[39;49;00m e:   \u001b[37m# Error handling for any possible exceptions that may occur when calling the function. \u001b[39;49;00m\u001b[37m\u001b[39;49;00m\n",
      "        \u001b[36mprint\u001b[39;49;00m(\u001b[33m\"\u001b[39;49;00m\u001b[33mAn error occurred while formatting the code:\u001b[39;49;00m\u001b[33m\"\u001b[39;49;00m, e)\u001b[37m\u001b[39;49;00m\n",
      "\u001b[37m\u001b[39;49;00m\n",
      "    \u001b[34mreturn\u001b[39;49;00m formatted_code \u001b[37m\u001b[39;49;00m\n",
      "    \u001b[37m\u001b[39;49;00m\n",
      "\u001b[34mdef\u001b[39;49;00m \u001b[32mshow_function_definition\u001b[39;49;00m(function):\u001b[37m\u001b[39;49;00m\n",
      "\u001b[37m\u001b[39;49;00m\n",
      "\u001b[37m    \u001b[39;49;00m\u001b[33m\"\"\"Return the source code for a function.\"\"\"\u001b[39;49;00m\u001b[37m\u001b[39;49;00m\n",
      "\u001b[37m\u001b[39;49;00m\n",
      "    \u001b[34mtry\u001b[39;49;00m:\u001b[37m\u001b[39;49;00m\n",
      "        source_lines, _ = inspect.getsourcelines(function)         \u001b[37m# Importing inspect module and adding an exception handler for OSErrors which can occur when getting source lines from a function.  \u001b[39;49;00m\u001b[37m\u001b[39;49;00m\n",
      "\u001b[37m\u001b[39;49;00m\n",
      "    \u001b[34mexcept\u001b[39;49;00m \u001b[36mTypeError\u001b[39;49;00m:   \u001b[37m# Handling type errors by returning a string saying that there is no definition for this function.  \u001b[39;49;00m\u001b[37m\u001b[39;49;00m\n",
      "\u001b[37m\u001b[39;49;00m\n",
      "        \u001b[34mreturn\u001b[39;49;00m \u001b[33m\"\u001b[39;49;00m\u001b[33mThis function does not have a definition.\u001b[39;49;00m\u001b[33m\"\u001b[39;49;00m\u001b[37m\u001b[39;49;00m\n",
      "\u001b[37m\u001b[39;49;00m\n",
      "    \u001b[34mexcept\u001b[39;49;00m \u001b[36mOSError\u001b[39;49;00m:     \u001b[37m# Handing possible OSErrors that can occur when getting source lines from a function by returning a string saying that there is no definition for this function.. \u001b[39;49;00m\u001b[37m\u001b[39;49;00m\n",
      "\u001b[37m\u001b[39;49;00m\n",
      "        \u001b[34mreturn\u001b[39;49;00m \u001b[33m\"\u001b[39;49;00m\u001b[33mThis function does not have a definition.\u001b[39;49;00m\u001b[33m\"\u001b[39;49;00m\u001b[37m\u001b[39;49;00m\n",
      "\u001b[37m\u001b[39;49;00m\n",
      "    \u001b[37m# Join the lines together into a single string.               # No changes required here.  \u001b[39;49;00m\u001b[37m\u001b[39;49;00m\n",
      "    function_definition = \u001b[33m'\u001b[39;49;00m\u001b[33m'\u001b[39;49;00m.join(source_lines)                 \u001b[37m\u001b[39;49;00m\n",
      "\u001b[37m\u001b[39;49;00m\n",
      "    \u001b[37m# Format the code using the format_python_code function.      # No changes required here either).  \u001b[39;49;00m\u001b[37m\u001b[39;49;00m\n",
      "    formatted_definition = format_python_code(function_definition)  \u001b[37m\u001b[39;49;00m\n",
      "\u001b[37m\u001b[39;49;00m\n",
      "    \u001b[34mreturn\u001b[39;49;00m formatted_definition                                    \u001b[37m# Return statement remains unchanged too!   \u001b[39;49;00m\u001b[37m\u001b[39;49;00m\n",
      "\n"
     ]
    },
    {
     "data": {
      "application/vnd.jupyter.widget-view+json": {
       "model_id": "91054e26ca354720805df7c728d81715",
       "version_major": 2,
       "version_minor": 0
      },
      "text/plain": [
       "Button(description='Try another code', style=ButtonStyle())"
      ]
     },
     "metadata": {},
     "output_type": "display_data"
    },
    {
     "data": {
      "application/vnd.jupyter.widget-view+json": {
       "model_id": "f893b91a9ab34a2fb660ec8ff25d6d0c",
       "version_major": 2,
       "version_minor": 0
      },
      "text/plain": [
       "Button(description='Apply code', style=ButtonStyle(button_color='blue'))"
      ]
     },
     "metadata": {},
     "output_type": "display_data"
    }
   ],
   "source": [
    "corrector.fix_broken_code()"
   ]
  },
  {
   "cell_type": "markdown",
   "id": "33dd43c0-0809-4257-b05d-087d06d1d945",
   "metadata": {},
   "source": [
    "## The model also pinpoints the error and revises the code. Try other code snippet by clicking \"Try another button\""
   ]
  },
  {
   "cell_type": "code",
   "execution_count": null,
   "id": "d4642a0e-a222-4aa6-b527-1251d73a462b",
   "metadata": {},
   "outputs": [],
   "source": []
  }
 ],
 "metadata": {
  "kernelspec": {
   "display_name": "jupyter-ai",
   "language": "python",
   "name": "jupyter-ai"
  },
  "language_info": {
   "codemirror_mode": {
    "name": "ipython",
    "version": 3
   },
   "file_extension": ".py",
   "mimetype": "text/x-python",
   "name": "python",
   "nbconvert_exporter": "python",
   "pygments_lexer": "ipython3",
   "version": "3.10.12"
  }
 },
 "nbformat": 4,
 "nbformat_minor": 5
}
